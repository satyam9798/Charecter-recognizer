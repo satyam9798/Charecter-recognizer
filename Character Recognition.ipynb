{
 "cells": [
  {
   "cell_type": "markdown",
   "id": "a245bb34",
   "metadata": {},
   "source": [
    "# importing the libraries\n",
    "                                                                                                            @satyam shivam"
   ]
  },
  {
   "cell_type": "code",
   "execution_count": 1,
   "id": "a1a5dbb3",
   "metadata": {},
   "outputs": [],
   "source": [
    "\n",
    "import pandas as pd\n",
    "import numpy as np\n",
    "import matplotlib.pyplot as plt\n",
    "import tensorflow as tf\n",
    "from  tensorflow.keras.layers import Dense, Flatten, BatchNormalization, Conv2D, MaxPooling2D, Dropout\n",
    "from tensorflow.keras.preprocessing.image import img_to_array, load_img, ImageDataGenerator, array_to_img\n",
    "\n",
    "import os\n",
    "import random"
   ]
  },
  {
   "cell_type": "markdown",
   "id": "c11b6c55",
   "metadata": {},
   "source": [
    "# importing the csv file and exploring it"
   ]
  },
  {
   "cell_type": "code",
   "execution_count": 2,
   "id": "3e424509",
   "metadata": {},
   "outputs": [
    {
     "data": {
      "text/html": [
       "<div>\n",
       "<style scoped>\n",
       "    .dataframe tbody tr th:only-of-type {\n",
       "        vertical-align: middle;\n",
       "    }\n",
       "\n",
       "    .dataframe tbody tr th {\n",
       "        vertical-align: top;\n",
       "    }\n",
       "\n",
       "    .dataframe thead th {\n",
       "        text-align: right;\n",
       "    }\n",
       "</style>\n",
       "<table border=\"1\" class=\"dataframe\">\n",
       "  <thead>\n",
       "    <tr style=\"text-align: right;\">\n",
       "      <th></th>\n",
       "      <th>image</th>\n",
       "      <th>label</th>\n",
       "    </tr>\n",
       "  </thead>\n",
       "  <tbody>\n",
       "    <tr>\n",
       "      <th>0</th>\n",
       "      <td>Img/img001-001.png</td>\n",
       "      <td>0</td>\n",
       "    </tr>\n",
       "    <tr>\n",
       "      <th>1</th>\n",
       "      <td>Img/img001-002.png</td>\n",
       "      <td>0</td>\n",
       "    </tr>\n",
       "    <tr>\n",
       "      <th>2</th>\n",
       "      <td>Img/img001-003.png</td>\n",
       "      <td>0</td>\n",
       "    </tr>\n",
       "    <tr>\n",
       "      <th>3</th>\n",
       "      <td>Img/img001-004.png</td>\n",
       "      <td>0</td>\n",
       "    </tr>\n",
       "    <tr>\n",
       "      <th>4</th>\n",
       "      <td>Img/img001-005.png</td>\n",
       "      <td>0</td>\n",
       "    </tr>\n",
       "  </tbody>\n",
       "</table>\n",
       "</div>"
      ],
      "text/plain": [
       "                image label\n",
       "0  Img/img001-001.png     0\n",
       "1  Img/img001-002.png     0\n",
       "2  Img/img001-003.png     0\n",
       "3  Img/img001-004.png     0\n",
       "4  Img/img001-005.png     0"
      ]
     },
     "execution_count": 2,
     "metadata": {},
     "output_type": "execute_result"
    }
   ],
   "source": [
    "df = pd.read_csv(\"english.csv\")\n",
    "df.head()\n"
   ]
  },
  {
   "cell_type": "code",
   "execution_count": 3,
   "id": "9eb365ff",
   "metadata": {},
   "outputs": [
    {
     "data": {
      "text/html": [
       "<div>\n",
       "<style scoped>\n",
       "    .dataframe tbody tr th:only-of-type {\n",
       "        vertical-align: middle;\n",
       "    }\n",
       "\n",
       "    .dataframe tbody tr th {\n",
       "        vertical-align: top;\n",
       "    }\n",
       "\n",
       "    .dataframe thead th {\n",
       "        text-align: right;\n",
       "    }\n",
       "</style>\n",
       "<table border=\"1\" class=\"dataframe\">\n",
       "  <thead>\n",
       "    <tr style=\"text-align: right;\">\n",
       "      <th></th>\n",
       "      <th>image</th>\n",
       "      <th>label</th>\n",
       "    </tr>\n",
       "  </thead>\n",
       "  <tbody>\n",
       "    <tr>\n",
       "      <th>count</th>\n",
       "      <td>3410</td>\n",
       "      <td>3410</td>\n",
       "    </tr>\n",
       "    <tr>\n",
       "      <th>unique</th>\n",
       "      <td>3410</td>\n",
       "      <td>62</td>\n",
       "    </tr>\n",
       "    <tr>\n",
       "      <th>top</th>\n",
       "      <td>Img/img034-051.png</td>\n",
       "      <td>8</td>\n",
       "    </tr>\n",
       "    <tr>\n",
       "      <th>freq</th>\n",
       "      <td>1</td>\n",
       "      <td>55</td>\n",
       "    </tr>\n",
       "  </tbody>\n",
       "</table>\n",
       "</div>"
      ],
      "text/plain": [
       "                     image label\n",
       "count                 3410  3410\n",
       "unique                3410    62\n",
       "top     Img/img034-051.png     8\n",
       "freq                     1    55"
      ]
     },
     "execution_count": 3,
     "metadata": {},
     "output_type": "execute_result"
    }
   ],
   "source": [
    "df.describe()"
   ]
  },
  {
   "cell_type": "markdown",
   "id": "ebb6549f",
   "metadata": {},
   "source": [
    "#Fetching the classes"
   ]
  },
  {
   "cell_type": "code",
   "execution_count": 4,
   "id": "5ed63f81",
   "metadata": {},
   "outputs": [
    {
     "name": "stdout",
     "output_type": "stream",
     "text": [
      "62 Classes are : ['0' '1' '2' '3' '4' '5' '6' '7' '8' '9' 'A' 'B' 'C' 'D' 'E' 'F' 'G' 'H'\n",
      " 'I' 'J' 'K' 'L' 'M' 'N' 'O' 'P' 'Q' 'R' 'S' 'T' 'U' 'V' 'W' 'X' 'Y' 'Z'\n",
      " 'a' 'b' 'c' 'd' 'e' 'f' 'g' 'h' 'i' 'j' 'k' 'l' 'm' 'n' 'o' 'p' 'q' 'r'\n",
      " 's' 't' 'u' 'v' 'w' 'x' 'y' 'z']\n"
     ]
    }
   ],
   "source": [
    "classes = df.label.unique()\n",
    "print(f\"{len(classes)} Classes are : {classes}\")"
   ]
  },
  {
   "cell_type": "markdown",
   "id": "30bee471",
   "metadata": {},
   "source": [
    "#exploring images"
   ]
  },
  {
   "cell_type": "code",
   "execution_count": 5,
   "id": "385a39ab",
   "metadata": {},
   "outputs": [
    {
     "data": {
      "text/plain": [
       "0    img001-001.png\n",
       "1    img001-002.png\n",
       "2    img001-003.png\n",
       "3    img001-004.png\n",
       "4    img001-005.png\n",
       "Name: image, dtype: object"
      ]
     },
     "execution_count": 5,
     "metadata": {},
     "output_type": "execute_result"
    }
   ],
   "source": [
    "dataPath = os.getcwd() + \"//Img\"\n",
    "\n",
    "def remove_preceding(col):\n",
    "  return col[4:]\n",
    "\n",
    "df['image'] = df['image'].apply(remove_preceding)\n",
    "\n",
    "df.image[:5]"
   ]
  },
  {
   "cell_type": "code",
   "execution_count": 6,
   "id": "3717fcb9",
   "metadata": {},
   "outputs": [
    {
     "data": {
      "text/plain": [
       "<matplotlib.image.AxesImage at 0x28ce8056280>"
      ]
     },
     "execution_count": 6,
     "metadata": {},
     "output_type": "execute_result"
    },
    {
     "data": {
      "image/png": "[encoded data removed]",
      "text/plain": [
       "<Figure size 432x288 with 1 Axes>"
      ]
     },
     "metadata": {
      "needs_background": "light"
     },
     "output_type": "display_data"
    }
   ],
   "source": [
    "# lets take a look at one of the images randomly\n",
    "index = random.randrange(len(df))\n",
    "img = load_img(dataPath + \"//\" + df.at[index, 'image'], target_size = (64,64))\n",
    "plt.imshow(img)\n",
    "\n",
    "\n"
   ]
  },
  {
   "cell_type": "code",
   "execution_count": 7,
   "id": "0e43029c",
   "metadata": {},
   "outputs": [
    {
     "name": "stderr",
     "output_type": "stream",
     "text": [
      "Clipping input data to the valid range for imshow with RGB data ([0..1] for floats or [0..255] for integers).\n"
     ]
    },
    {
     "data": {
      "text/plain": [
       "<matplotlib.image.AxesImage at 0x28ce80f3100>"
      ]
     },
     "execution_count": 7,
     "metadata": {},
     "output_type": "execute_result"
    },
    {
     "data": {
      "image/png": "[encoded data removed]",
      "text/plain": [
       "<Figure size 432x288 with 1 Axes>"
      ]
     },
     "metadata": {
      "needs_background": "light"
     },
     "output_type": "display_data"
    }
   ],
   "source": [
    "#now lets augment this image with rotation\n",
    "augmented_image_generator = ImageDataGenerator(rotation_range = 180)\n",
    "\n",
    "# convert the img from 3 to 4 dimensions, including the number of samples column\n",
    "# our img is of (64,64,3) shape\n",
    "temp_arr = img_to_array(img)\n",
    "temp_arr = temp_arr.reshape(1, temp_arr.shape[0], temp_arr.shape[1], temp_arr.shape[2])\n",
    "\n",
    "aug_data = augmented_image_generator.flow(temp_arr, batch_size = 1)\n",
    "\n",
    "plt.imshow(aug_data[0][0])"
   ]
  },
  {
   "cell_type": "code",
   "execution_count": 8,
   "id": "7679af13",
   "metadata": {},
   "outputs": [
    {
     "data": {
      "text/plain": [
       "'u'"
      ]
     },
     "execution_count": 8,
     "metadata": {},
     "output_type": "execute_result"
    }
   ],
   "source": [
    "#check if the label of that image matches the image itself\n",
    "df.at[index, 'label']"
   ]
  },
  {
   "cell_type": "markdown",
   "id": "821b9d40",
   "metadata": {},
   "source": [
    "#Creating Validation and Testing datasets"
   ]
  },
  {
   "cell_type": "code",
   "execution_count": 9,
   "id": "c17bae9a",
   "metadata": {},
   "outputs": [],
   "source": [
    "# we have our main dataFrame 'df' that we will work with\n",
    "# now to create the training, validation, testing array\n",
    "\n",
    "validation_length = int(len(df) * 0.25) # 25 % of whole\n",
    "testing_length = int(validation_length * 0.1) # 10 % of valdation\n",
    "# And the remaining is for the training\n",
    "\n",
    "validation_data_list = random.sample(range(len(df)), validation_length)\n",
    "validation_df = pd.DataFrame(df.iloc[validation_data_list].values, columns = ['image', 'label'])\n",
    "df.drop(validation_data_list, axis = 0, inplace = True)\n",
    "\n",
    "testing_data_list = random.sample(range(len(validation_df)), testing_length)\n",
    "testing_df = pd.DataFrame(validation_df.iloc[testing_data_list].values, columns = ['image','label'])\n",
    "validation_df.drop(testing_data_list, axis = 0, inplace = True)\n",
    "\n",
    "training_data = df[:].values\n",
    "\n",
    "training_df = pd.DataFrame(training_data, columns = ['image','label'])"
   ]
  },
  {
   "cell_type": "markdown",
   "id": "7ce3b187",
   "metadata": {},
   "source": [
    "#taking a quick look to all three dataFrames "
   ]
  },
  {
   "cell_type": "code",
   "execution_count": 10,
   "id": "ecfd8ebe",
   "metadata": {},
   "outputs": [
    {
     "data": {
      "text/html": [
       "<div>\n",
       "<style scoped>\n",
       "    .dataframe tbody tr th:only-of-type {\n",
       "        vertical-align: middle;\n",
       "    }\n",
       "\n",
       "    .dataframe tbody tr th {\n",
       "        vertical-align: top;\n",
       "    }\n",
       "\n",
       "    .dataframe thead th {\n",
       "        text-align: right;\n",
       "    }\n",
       "</style>\n",
       "<table border=\"1\" class=\"dataframe\">\n",
       "  <thead>\n",
       "    <tr style=\"text-align: right;\">\n",
       "      <th></th>\n",
       "      <th>image</th>\n",
       "      <th>label</th>\n",
       "    </tr>\n",
       "  </thead>\n",
       "  <tbody>\n",
       "    <tr>\n",
       "      <th>0</th>\n",
       "      <td>img001-001.png</td>\n",
       "      <td>0</td>\n",
       "    </tr>\n",
       "    <tr>\n",
       "      <th>1</th>\n",
       "      <td>img001-003.png</td>\n",
       "      <td>0</td>\n",
       "    </tr>\n",
       "    <tr>\n",
       "      <th>2</th>\n",
       "      <td>img001-008.png</td>\n",
       "      <td>0</td>\n",
       "    </tr>\n",
       "    <tr>\n",
       "      <th>3</th>\n",
       "      <td>img001-009.png</td>\n",
       "      <td>0</td>\n",
       "    </tr>\n",
       "    <tr>\n",
       "      <th>4</th>\n",
       "      <td>img001-011.png</td>\n",
       "      <td>0</td>\n",
       "    </tr>\n",
       "  </tbody>\n",
       "</table>\n",
       "</div>"
      ],
      "text/plain": [
       "            image label\n",
       "0  img001-001.png     0\n",
       "1  img001-003.png     0\n",
       "2  img001-008.png     0\n",
       "3  img001-009.png     0\n",
       "4  img001-011.png     0"
      ]
     },
     "execution_count": 10,
     "metadata": {},
     "output_type": "execute_result"
    }
   ],
   "source": [
    "training_df.head()"
   ]
  },
  {
   "cell_type": "code",
   "execution_count": 11,
   "id": "68ed06b6",
   "metadata": {},
   "outputs": [
    {
     "data": {
      "text/html": [
       "<div>\n",
       "<style scoped>\n",
       "    .dataframe tbody tr th:only-of-type {\n",
       "        vertical-align: middle;\n",
       "    }\n",
       "\n",
       "    .dataframe tbody tr th {\n",
       "        vertical-align: top;\n",
       "    }\n",
       "\n",
       "    .dataframe thead th {\n",
       "        text-align: right;\n",
       "    }\n",
       "</style>\n",
       "<table border=\"1\" class=\"dataframe\">\n",
       "  <thead>\n",
       "    <tr style=\"text-align: right;\">\n",
       "      <th></th>\n",
       "      <th>image</th>\n",
       "      <th>label</th>\n",
       "    </tr>\n",
       "  </thead>\n",
       "  <tbody>\n",
       "    <tr>\n",
       "      <th>0</th>\n",
       "      <td>img015-049.png</td>\n",
       "      <td>E</td>\n",
       "    </tr>\n",
       "    <tr>\n",
       "      <th>1</th>\n",
       "      <td>img059-038.png</td>\n",
       "      <td>w</td>\n",
       "    </tr>\n",
       "    <tr>\n",
       "      <th>2</th>\n",
       "      <td>img053-006.png</td>\n",
       "      <td>q</td>\n",
       "    </tr>\n",
       "    <tr>\n",
       "      <th>3</th>\n",
       "      <td>img059-027.png</td>\n",
       "      <td>w</td>\n",
       "    </tr>\n",
       "    <tr>\n",
       "      <th>4</th>\n",
       "      <td>img050-032.png</td>\n",
       "      <td>n</td>\n",
       "    </tr>\n",
       "  </tbody>\n",
       "</table>\n",
       "</div>"
      ],
      "text/plain": [
       "            image label\n",
       "0  img015-049.png     E\n",
       "1  img059-038.png     w\n",
       "2  img053-006.png     q\n",
       "3  img059-027.png     w\n",
       "4  img050-032.png     n"
      ]
     },
     "execution_count": 11,
     "metadata": {},
     "output_type": "execute_result"
    }
   ],
   "source": [
    "testing_df.head()"
   ]
  },
  {
   "cell_type": "code",
   "execution_count": 12,
   "id": "95a8d8a1",
   "metadata": {},
   "outputs": [
    {
     "data": {
      "text/html": [
       "<div>\n",
       "<style scoped>\n",
       "    .dataframe tbody tr th:only-of-type {\n",
       "        vertical-align: middle;\n",
       "    }\n",
       "\n",
       "    .dataframe tbody tr th {\n",
       "        vertical-align: top;\n",
       "    }\n",
       "\n",
       "    .dataframe thead th {\n",
       "        text-align: right;\n",
       "    }\n",
       "</style>\n",
       "<table border=\"1\" class=\"dataframe\">\n",
       "  <thead>\n",
       "    <tr style=\"text-align: right;\">\n",
       "      <th></th>\n",
       "      <th>image</th>\n",
       "      <th>label</th>\n",
       "    </tr>\n",
       "  </thead>\n",
       "  <tbody>\n",
       "    <tr>\n",
       "      <th>0</th>\n",
       "      <td>img061-032.png</td>\n",
       "      <td>y</td>\n",
       "    </tr>\n",
       "    <tr>\n",
       "      <th>1</th>\n",
       "      <td>img015-042.png</td>\n",
       "      <td>E</td>\n",
       "    </tr>\n",
       "    <tr>\n",
       "      <th>2</th>\n",
       "      <td>img033-040.png</td>\n",
       "      <td>W</td>\n",
       "    </tr>\n",
       "    <tr>\n",
       "      <th>3</th>\n",
       "      <td>img034-032.png</td>\n",
       "      <td>X</td>\n",
       "    </tr>\n",
       "    <tr>\n",
       "      <th>4</th>\n",
       "      <td>img028-015.png</td>\n",
       "      <td>R</td>\n",
       "    </tr>\n",
       "  </tbody>\n",
       "</table>\n",
       "</div>"
      ],
      "text/plain": [
       "            image label\n",
       "0  img061-032.png     y\n",
       "1  img015-042.png     E\n",
       "2  img033-040.png     W\n",
       "3  img034-032.png     X\n",
       "4  img028-015.png     R"
      ]
     },
     "execution_count": 12,
     "metadata": {},
     "output_type": "execute_result"
    }
   ],
   "source": [
    "validation_df.head()"
   ]
  },
  {
   "cell_type": "markdown",
   "id": "a8adc76b",
   "metadata": {},
   "source": [
    "#Augmentating data"
   ]
  },
  {
   "cell_type": "code",
   "execution_count": 13,
   "id": "aaa8be9f",
   "metadata": {},
   "outputs": [
    {
     "name": "stdout",
     "output_type": "stream",
     "text": [
      "Found 2558 validated image filenames belonging to 62 classes.\n",
      "Found 767 validated image filenames belonging to 62 classes.\n",
      "Found 85 validated image filenames.\n"
     ]
    }
   ],
   "source": [
    "training_data_augmentor = ImageDataGenerator(\n",
    "    rescale = 1/255,\n",
    "    shear_range = 0.14,\n",
    "    zoom_range = 0.14,\n",
    "    width_shift_range = 0.14,\n",
    "    height_shift_range = 0.14\n",
    ")\n",
    "\n",
    "data_augmentor = ImageDataGenerator(rescale = 1/255)\n",
    "\n",
    "# for testing\n",
    "dataFrame_training = training_data_augmentor.flow_from_dataframe(\n",
    "    dataframe = training_df,\n",
    "    directory = dataPath,\n",
    "    x_col = 'image',\n",
    "    y_col = 'label',\n",
    "    target_size = (64,64),\n",
    "    color_mode = 'grayscale',\n",
    "    class_mode = 'categorical'\n",
    ")\n",
    "\n",
    "#for validation\n",
    "dataFrame_validation = data_augmentor.flow_from_dataframe(\n",
    "    dataframe = validation_df,\n",
    "    directory = dataPath,\n",
    "    x_col = 'image',\n",
    "    y_col = 'label',\n",
    "    target_size = (64,64),\n",
    "    color_mode = 'grayscale',\n",
    "    class_mode = 'categorical'\n",
    ")\n",
    "\n",
    "#for testing\n",
    "dataFrame_testing = data_augmentor.flow_from_dataframe(\n",
    "    dataframe = testing_df,\n",
    "    directory = dataPath,\n",
    "    x_col = 'image',\n",
    "    y_col = None,\n",
    "    target_size = (64,64),\n",
    "\n",
    "    color_mode = 'grayscale',\n",
    "    class_mode = None\n",
    ")"
   ]
  },
  {
   "cell_type": "markdown",
   "id": "b03e1bb1",
   "metadata": {},
   "source": [
    "#Model Creation and fitting"
   ]
  },
  {
   "cell_type": "code",
   "execution_count": 14,
   "id": "55c76f54",
   "metadata": {},
   "outputs": [],
   "source": [
    "model = tf.keras.models.Sequential()\n",
    "model.add(BatchNormalization())\n",
    "\n",
    "model.add(Conv2D(filters = 32, kernel_size = (3,3), padding='same', input_shape = (64,64,1), activation = 'relu'))\n",
    "model.add(Conv2D(filters = 32, kernel_size = (3,3), activation = 'relu'))\n",
    "model.add(MaxPooling2D(pool_size = (2,2)))\n",
    "model.add(Dropout(rate = 0.25))\n",
    "\n",
    "model.add(Conv2D(filters = 32, kernel_size = (3,3), padding='same', activation = 'relu'))\n",
    "model.add(Conv2D(filters = 32, kernel_size = (3,3), activation = 'relu'))\n",
    "model.add(MaxPooling2D(pool_size = (2,2)))\n",
    "model.add(Dropout(rate = 0.25))\n",
    "\n",
    "model.add(Conv2D(filters = 32, kernel_size = (3,3), padding='same', activation = 'relu'))\n",
    "model.add(Conv2D(filters = 32, kernel_size = (3,3), activation = 'relu'))\n",
    "model.add(MaxPooling2D(pool_size = (2,2)))\n",
    "model.add(Dropout(rate = 0.25))\n",
    "\n",
    "model.add(Flatten())\n",
    "\n",
    "model.add(Dense(units = 128, activation = 'relu'))\n",
    "model.add(Dropout(0.25))\n",
    "\n",
    "model.add(Dense(units = 62, activation = 'softmax'))"
   ]
  },
  {
   "cell_type": "code",
   "execution_count": 15,
   "id": "b211fe91",
   "metadata": {},
   "outputs": [],
   "source": [
    "model.compile(optimizer = 'adam',\n",
    "              loss = 'categorical_crossentropy',\n",
    "              metrics = ['accuracy'])"
   ]
  },
  {
   "cell_type": "code",
   "execution_count": 16,
   "id": "0ee1e2bc",
   "metadata": {},
   "outputs": [
    {
     "name": "stdout",
     "output_type": "stream",
     "text": [
      "Epoch 1/10\n",
      "80/80 [==============================] - 81s 997ms/step - loss: 4.1301 - accuracy: 0.0152 - val_loss: 4.1275 - val_accuracy: 0.0091\n",
      "Epoch 2/10\n",
      "80/80 [==============================] - 70s 871ms/step - loss: 4.0841 - accuracy: 0.0309 - val_loss: 4.0671 - val_accuracy: 0.0639\n",
      "Epoch 3/10\n",
      "80/80 [==============================] - 70s 870ms/step - loss: 3.8730 - accuracy: 0.0676 - val_loss: 3.6928 - val_accuracy: 0.1721\n",
      "Epoch 4/10\n",
      "80/80 [==============================] - 72s 897ms/step - loss: 3.3983 - accuracy: 0.1411 - val_loss: 2.8700 - val_accuracy: 0.2986\n",
      "Epoch 5/10\n",
      "80/80 [==============================] - 70s 876ms/step - loss: 2.8848 - accuracy: 0.2373 - val_loss: 2.1565 - val_accuracy: 0.4524\n",
      "Epoch 6/10\n",
      "80/80 [==============================] - 70s 873ms/step - loss: 2.4168 - accuracy: 0.3393 - val_loss: 1.7695 - val_accuracy: 0.5463\n",
      "Epoch 7/10\n",
      "80/80 [==============================] - 81s 1s/step - loss: 2.0988 - accuracy: 0.3851 - val_loss: 1.2699 - val_accuracy: 0.6076\n",
      "Epoch 8/10\n",
      "80/80 [==============================] - 149s 2s/step - loss: 1.9310 - accuracy: 0.4390 - val_loss: 1.1716 - val_accuracy: 0.6297\n",
      "Epoch 9/10\n",
      "80/80 [==============================] - 68s 856ms/step - loss: 1.7302 - accuracy: 0.4773 - val_loss: 1.0531 - val_accuracy: 0.6832\n",
      "Epoch 10/10\n",
      "80/80 [==============================] - 68s 851ms/step - loss: 1.5723 - accuracy: 0.5289 - val_loss: 0.9745 - val_accuracy: 0.7197\n"
     ]
    }
   ],
   "source": [
    "history = model.fit(dataFrame_training, epochs = 10, validation_data = dataFrame_validation)"
   ]
  },
  {
   "cell_type": "markdown",
   "id": "d3841174",
   "metadata": {},
   "source": [
    "#Visualizing how the accuracy and loss changed in each epoch for training and validation"
   ]
  },
  {
   "cell_type": "code",
   "execution_count": 17,
   "id": "41a03868",
   "metadata": {},
   "outputs": [
    {
     "data": {
      "text/plain": [
       "dict_keys(['loss', 'accuracy', 'val_loss', 'val_accuracy'])"
      ]
     },
     "execution_count": 17,
     "metadata": {},
     "output_type": "execute_result"
    }
   ],
   "source": [
    "history.history.keys()"
   ]
  },
  {
   "cell_type": "code",
   "execution_count": 19,
   "id": "46c9fdff",
   "metadata": {},
   "outputs": [
    {
     "data": {
      "text/plain": [
       "Text(0.5, 1.0, 'Training and Validation loss')"
      ]
     },
     "execution_count": 19,
     "metadata": {},
     "output_type": "execute_result"
    },
    {
     "data": {
      "image/png": "[encoded data removed]",
      "text/plain": [
       "<Figure size 1080x720 with 2 Axes>"
      ]
     },
     "metadata": {
      "needs_background": "light"
     },
     "output_type": "display_data"
    }
   ],
   "source": [
    "acc = history.history['accuracy']\n",
    "loss = history.history['loss']\n",
    "val_accuracy = history.history['val_accuracy']\n",
    "val_loss = history.history['val_loss']\n",
    "\n",
    "epochs = range(10)\n",
    "\n",
    "plt.figure(figsize = (15,10))\n",
    "\n",
    "plt.subplot(1,2,1)\n",
    "plt.plot(epochs, acc, color = 'orange')\n",
    "plt.plot(epochs, val_accuracy, color = 'green')\n",
    "plt.legend(['train_acc', 'val_acc'], loc = 'lower right')\n",
    "plt.title(\"Training and Validation accuracy\")\n",
    "\n",
    "plt.subplot(1,2,2)\n",
    "plt.plot(epochs, loss, color = 'orange')\n",
    "plt.plot(epochs, val_loss, color = 'green')\n",
    "plt.legend(['train_loss', 'val_loss'], loc=  'upper right')\n",
    "plt.title(\"Training and Validation loss\")"
   ]
  },
  {
   "cell_type": "markdown",
   "id": "24dcd6f1",
   "metadata": {},
   "source": [
    "#Prediction"
   ]
  },
  {
   "cell_type": "code",
   "execution_count": 20,
   "id": "c8e721f6",
   "metadata": {},
   "outputs": [
    {
     "name": "stdout",
     "output_type": "stream",
     "text": [
      "MaxIndexes : [56, 12, 44, 37, 4, 48, 8, 38, 19, 48]\n",
      "Class - indicies : {'0': 0, '1': 1, '2': 2, '3': 3, '4': 4, '5': 5, '6': 6, '7': 7, '8': 8, '9': 9, 'A': 10, 'B': 11, 'C': 12, 'D': 13, 'E': 14, 'F': 15, 'G': 16, 'H': 17, 'I': 18, 'J': 19, 'K': 20, 'L': 21, 'M': 22, 'N': 23, 'O': 24, 'P': 25, 'Q': 26, 'R': 27, 'S': 28, 'T': 29, 'U': 30, 'V': 31, 'W': 32, 'X': 33, 'Y': 34, 'Z': 35, 'a': 36, 'b': 37, 'c': 38, 'd': 39, 'e': 40, 'f': 41, 'g': 42, 'h': 43, 'i': 44, 'j': 45, 'k': 46, 'l': 47, 'm': 48, 'n': 49, 'o': 50, 'p': 51, 'q': 52, 'r': 53, 's': 54, 't': 55, 'u': 56, 'v': 57, 'w': 58, 'x': 59, 'y': 60, 'z': 61}\n"
     ]
    }
   ],
   "source": [
    "pred = model.predict(dataFrame_testing)\n",
    "\n",
    "outputdf = pd.DataFrame(pred)\n",
    "\n",
    "# lets consider first 10 predicted images and display them\n",
    "maxIndex = list(outputdf[:10].idxmax(axis = 1))\n",
    "\n",
    "print(\"MaxIndexes : {}\".format(maxIndex))\n",
    "\n",
    "# the following are the 62 classes with their indices from training dataframe created from Augmented cell\n",
    "print(\"Class - indicies : {}\".format(dataFrame_training.class_indices))\n",
    "\n"
   ]
  },
  {
   "cell_type": "code",
   "execution_count": 21,
   "id": "c632a0d6",
   "metadata": {},
   "outputs": [
    {
     "data": {
      "image/png": "[encoded data removed]",
      "text/plain": [
       "<Figure size 432x288 with 1 Axes>"
      ]
     },
     "metadata": {
      "needs_background": "light"
     },
     "output_type": "display_data"
    },
    {
     "data": {
      "image/png": "[encoded data removed]",
      "text/plain": [
       "<Figure size 432x288 with 1 Axes>"
      ]
     },
     "metadata": {
      "needs_background": "light"
     },
     "output_type": "display_data"
    },
    {
     "data": {
      "image/png": "[encoded data removed]",
      "text/plain": [
       "<Figure size 432x288 with 1 Axes>"
      ]
     },
     "metadata": {
      "needs_background": "light"
     },
     "output_type": "display_data"
    },
    {
     "data": {
      "image/png": "[encoded data removed]",
      "text/plain": [
       "<Figure size 432x288 with 1 Axes>"
      ]
     },
     "metadata": {
      "needs_background": "light"
     },
     "output_type": "display_data"
    },
    {
     "data": {
      "image/png": "[encoded data removed]",
      "text/plain": [
       "<Figure size 432x288 with 1 Axes>"
      ]
     },
     "metadata": {
      "needs_background": "light"
     },
     "output_type": "display_data"
    },
    {
     "data": {
      "image/png": "[encoded data removed]",
      "text/plain": [
       "<Figure size 432x288 with 1 Axes>"
      ]
     },
     "metadata": {
      "needs_background": "light"
     },
     "output_type": "display_data"
    },
    {
     "data": {
      "image/png": "[encoded data removed]",
      "text/plain": [
       "<Figure size 432x288 with 1 Axes>"
      ]
     },
     "metadata": {
      "needs_background": "light"
     },
     "output_type": "display_data"
    },
    {
     "data": {
      "image/png": "[encoded data removed]",
      "text/plain": [
       "<Figure size 432x288 with 1 Axes>"
      ]
     },
     "metadata": {
      "needs_background": "light"
     },
     "output_type": "display_data"
    },
    {
     "data": {
      "image/png": "[encoded data removed]",
      "text/plain": [
       "<Figure size 432x288 with 1 Axes>"
      ]
     },
     "metadata": {
      "needs_background": "light"
     },
     "output_type": "display_data"
    },
    {
     "data": {
      "image/png": "[encoded data removed]",
      "text/plain": [
       "<Figure size 432x288 with 1 Axes>"
      ]
     },
     "metadata": {
      "needs_background": "light"
     },
     "output_type": "display_data"
    }
   ],
   "source": [
    "for i in range(10):\n",
    "  img = load_img(dataPath + \"//\" + testing_df.at[i, 'image'])  # testing_df from \"Creating training and Validation dataset\"\n",
    "  plt.title(classes[maxIndex[i]])\n",
    "  plt.imshow(img)\n",
    "  plt.show()"
   ]
  },
  {
   "cell_type": "code",
   "execution_count": null,
   "id": "9cbbbafe",
   "metadata": {},
   "outputs": [],
   "source": []
  }
 ],
 "metadata": {
  "kernelspec": {
   "display_name": "Python 3",
   "language": "python",
   "name": "python3"
  },
  "language_info": {
   "codemirror_mode": {
    "name": "ipython",
    "version": 3
   },
   "file_extension": ".py",
   "mimetype": "text/x-python",
   "name": "python",
   "nbconvert_exporter": "python",
   "pygments_lexer": "ipython3",
   "version": "3.8.8"
  }
 },
 "nbformat": 4,
 "nbformat_minor": 5
}
