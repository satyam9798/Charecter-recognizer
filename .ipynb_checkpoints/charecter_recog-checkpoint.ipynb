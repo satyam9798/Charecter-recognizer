{
 "cells": [
  {
   "cell_type": "markdown",
   "metadata": {
    "id": "gP8XsSQtzQL-"
   },
   "source": [
    "***Import Libraries***"
   ]
  },
  {
   "cell_type": "code",
   "execution_count": 1,
   "metadata": {
    "id": "fmK2OOJxzTGT"
   },
   "outputs": [],
   "source": [
    "import pandas as pd\n",
    "import numpy as np\n",
    "import matplotlib.pyplot as plt\n",
    "import tensorflow as tf\n",
    "from  tensorflow.keras.layers import Dense, Flatten, BatchNormalization, Conv2D, MaxPooling2D, Dropout\n",
    "from tensorflow.keras.preprocessing.image import img_to_array, load_img, ImageDataGenerator, array_to_img\n",
    "\n",
    "import os\n",
    "import random"
   ]
  },
  {
   "cell_type": "markdown",
   "metadata": {
    "id": "-fr_dWf3z1a0"
   },
   "source": [
    "First task is to import the csv file and explore it"
   ]
  },
  {
   "cell_type": "markdown",
   "metadata": {},
   "source": [
    "# Note : \n",
    "I have also uploaded a trainied model. You can check by loading that model and predict data from that, model was trained using the settings used to train the model here in this notebook, got about 80% accuracy in the fitting process"
   ]
  },
  {
   "cell_type": "code",
   "execution_count": null,
   "metadata": {
    "id": "UUn5fFFHzzhL"
   },
   "outputs": [],
   "source": [
    "df = pd.read_csv(\"english.csv\")"
   ]
  },
  {
   "cell_type": "code",
   "execution_count": null,
   "metadata": {
    "colab": {
     "base_uri": "https://localhost:8080/",
     "height": 205
    },
    "id": "pkhPbWx0z9Lh",
    "outputId": "013d79a1-4dc8-4f5b-b1a4-2332bfe942e8"
   },
   "outputs": [
    {
     "data": {
      "text/html": [
       "<div>\n",
       "<style scoped>\n",
       "    .dataframe tbody tr th:only-of-type {\n",
       "        vertical-align: middle;\n",
       "    }\n",
       "\n",
       "    .dataframe tbody tr th {\n",
       "        vertical-align: top;\n",
       "    }\n",
       "\n",
       "    .dataframe thead th {\n",
       "        text-align: right;\n",
       "    }\n",
       "</style>\n",
       "<table border=\"1\" class=\"dataframe\">\n",
       "  <thead>\n",
       "    <tr style=\"text-align: right;\">\n",
       "      <th></th>\n",
       "      <th>image</th>\n",
       "      <th>label</th>\n",
       "    </tr>\n",
       "  </thead>\n",
       "  <tbody>\n",
       "    <tr>\n",
       "      <th>0</th>\n",
       "      <td>Img/img001-001.png</td>\n",
       "      <td>0</td>\n",
       "    </tr>\n",
       "    <tr>\n",
       "      <th>1</th>\n",
       "      <td>Img/img001-002.png</td>\n",
       "      <td>0</td>\n",
       "    </tr>\n",
       "    <tr>\n",
       "      <th>2</th>\n",
       "      <td>Img/img001-003.png</td>\n",
       "      <td>0</td>\n",
       "    </tr>\n",
       "    <tr>\n",
       "      <th>3</th>\n",
       "      <td>Img/img001-004.png</td>\n",
       "      <td>0</td>\n",
       "    </tr>\n",
       "    <tr>\n",
       "      <th>4</th>\n",
       "      <td>Img/img001-005.png</td>\n",
       "      <td>0</td>\n",
       "    </tr>\n",
       "  </tbody>\n",
       "</table>\n",
       "</div>"
      ],
      "text/plain": [
       "                image label\n",
       "0  Img/img001-001.png     0\n",
       "1  Img/img001-002.png     0\n",
       "2  Img/img001-003.png     0\n",
       "3  Img/img001-004.png     0\n",
       "4  Img/img001-005.png     0"
      ]
     },
     "execution_count": 4,
     "metadata": {
      "tags": []
     },
     "output_type": "execute_result"
    }
   ],
   "source": [
    "df.head()"
   ]
  },
  {
   "cell_type": "markdown",
   "metadata": {
    "id": "w0auOcSUz_GU"
   },
   "source": [
    "We take the above dataframe and observe to find out that it has two columns, one is image and the other is label.\n",
    ">\n",
    "image column contains the path to a particular image.\n",
    ">\n",
    "label column contains the information regarding what the image displays. \n"
   ]
  },
  {
   "cell_type": "code",
   "execution_count": null,
   "metadata": {
    "colab": {
     "base_uri": "https://localhost:8080/",
     "height": 175
    },
    "id": "jG7cDZ5nz9wB",
    "outputId": "a95880cc-68c5-4a1e-a556-bbc3afdd6041"
   },
   "outputs": [
    {
     "data": {
      "text/html": [
       "<div>\n",
       "<style scoped>\n",
       "    .dataframe tbody tr th:only-of-type {\n",
       "        vertical-align: middle;\n",
       "    }\n",
       "\n",
       "    .dataframe tbody tr th {\n",
       "        vertical-align: top;\n",
       "    }\n",
       "\n",
       "    .dataframe thead th {\n",
       "        text-align: right;\n",
       "    }\n",
       "</style>\n",
       "<table border=\"1\" class=\"dataframe\">\n",
       "  <thead>\n",
       "    <tr style=\"text-align: right;\">\n",
       "      <th></th>\n",
       "      <th>image</th>\n",
       "      <th>label</th>\n",
       "    </tr>\n",
       "  </thead>\n",
       "  <tbody>\n",
       "    <tr>\n",
       "      <th>count</th>\n",
       "      <td>3410</td>\n",
       "      <td>3410</td>\n",
       "    </tr>\n",
       "    <tr>\n",
       "      <th>unique</th>\n",
       "      <td>3410</td>\n",
       "      <td>62</td>\n",
       "    </tr>\n",
       "    <tr>\n",
       "      <th>top</th>\n",
       "      <td>Img/img062-035.png</td>\n",
       "      <td>J</td>\n",
       "    </tr>\n",
       "    <tr>\n",
       "      <th>freq</th>\n",
       "      <td>1</td>\n",
       "      <td>55</td>\n",
       "    </tr>\n",
       "  </tbody>\n",
       "</table>\n",
       "</div>"
      ],
      "text/plain": [
       "                     image label\n",
       "count                 3410  3410\n",
       "unique                3410    62\n",
       "top     Img/img062-035.png     J\n",
       "freq                     1    55"
      ]
     },
     "execution_count": 5,
     "metadata": {
      "tags": []
     },
     "output_type": "execute_result"
    }
   ],
   "source": [
    "df.describe()"
   ]
  },
  {
   "cell_type": "markdown",
   "metadata": {
    "id": "HV-hMGZ41V6c"
   },
   "source": [
    "With this describe() method we found out that each image has same label for at least 55 time. **(freq row)**\n",
    ">\n",
    "we have a total of 3410 images and the range of labels is 62"
   ]
  },
  {
   "cell_type": "code",
   "execution_count": null,
   "metadata": {
    "colab": {
     "base_uri": "https://localhost:8080/"
    },
    "id": "2xYeSKjt1TrS",
    "outputId": "1bfef5f7-32bc-4fbf-9592-5da4f7580bc2"
   },
   "outputs": [
    {
     "data": {
      "text/plain": [
       "image    0\n",
       "label    0\n",
       "dtype: int64"
      ]
     },
     "execution_count": 8,
     "metadata": {
      "tags": []
     },
     "output_type": "execute_result"
    }
   ],
   "source": [
    "df.isnull().sum()"
   ]
  },
  {
   "cell_type": "markdown",
   "metadata": {
    "id": "9Nh91ReM2gDG"
   },
   "source": [
    "**Fetching classes**"
   ]
  },
  {
   "cell_type": "code",
   "execution_count": null,
   "metadata": {
    "colab": {
     "base_uri": "https://localhost:8080/"
    },
    "id": "PsCiVl-o2Vl-",
    "outputId": "645a6ea7-94c3-4baa-b225-eae5a4ad0670"
   },
   "outputs": [
    {
     "name": "stdout",
     "output_type": "stream",
     "text": [
      "62 Classes are : ['0' '1' '2' '3' '4' '5' '6' '7' '8' '9' 'A' 'B' 'C' 'D' 'E' 'F' 'G' 'H'\n",
      " 'I' 'J' 'K' 'L' 'M' 'N' 'O' 'P' 'Q' 'R' 'S' 'T' 'U' 'V' 'W' 'X' 'Y' 'Z'\n",
      " 'a' 'b' 'c' 'd' 'e' 'f' 'g' 'h' 'i' 'j' 'k' 'l' 'm' 'n' 'o' 'p' 'q' 'r'\n",
      " 's' 't' 'u' 'v' 'w' 'x' 'y' 'z']\n"
     ]
    }
   ],
   "source": [
    "classes = df.label.unique()\n",
    "print(f\"{len(classes)} Classes are : {classes}\")"
   ]
  },
  {
   "cell_type": "markdown",
   "metadata": {
    "id": "eqsiOgGT23cY"
   },
   "source": [
    "**Exploring Images**"
   ]
  },
  {
   "cell_type": "markdown",
   "metadata": {
    "id": "irGSyBMF29MA"
   },
   "source": [
    "Now, lets explore the images and use ImageDataGenerator methods"
   ]
  },
  {
   "cell_type": "code",
   "execution_count": 3,
   "metadata": {
    "id": "vc43Hnyo2yET"
   },
   "outputs": [],
   "source": [
    "dataPath = os.getcwd() + \"//Img\"\n",
    "# Created a data directory"
   ]
  },
  {
   "cell_type": "code",
   "execution_count": null,
   "metadata": {
    "id": "MMYkt6UL4i3C"
   },
   "outputs": [],
   "source": [
    "# Since our dataframe has the info about the image name with \"Img\" preceding them we will\n",
    "# create a function that will remove modify them to not have \"Img\" preceding\n",
    "\n",
    "# example : df.iloc[0,0] = Img/img001-001.png -> img001-001.png\n",
    "\n",
    "def remove_preceding(col):\n",
    "  return col[4:]\n",
    "\n",
    "df['image'] = df['image'].apply(remove_preceding)"
   ]
  },
  {
   "cell_type": "code",
   "execution_count": null,
   "metadata": {
    "colab": {
     "base_uri": "https://localhost:8080/"
    },
    "id": "aeWFd3a27tvh",
    "outputId": "5847b720-db80-457b-8211-0751dd453c54"
   },
   "outputs": [
    {
     "data": {
      "text/plain": [
       "0    img001-001.png\n",
       "1    img001-002.png\n",
       "2    img001-003.png\n",
       "3    img001-004.png\n",
       "4    img001-005.png\n",
       "Name: image, dtype: object"
      ]
     },
     "execution_count": 5,
     "metadata": {
      "tags": []
     },
     "output_type": "execute_result"
    }
   ],
   "source": [
    "df.image[:5]"
   ]
  },
  {
   "cell_type": "code",
   "execution_count": null,
   "metadata": {
    "colab": {
     "base_uri": "https://localhost:8080/",
     "height": 286
    },
    "id": "6PsrNDTf5ZPa",
    "outputId": "c36dbe3b-f73e-4cef-f443-c92724c9484a"
   },
   "outputs": [
    {
     "data": {
      "text/plain": [
       "<matplotlib.image.AxesImage at 0x7f3a26567650>"
      ]
     },
     "execution_count": 9,
     "metadata": {
      "tags": []
     },
     "output_type": "execute_result"
    },
    {
     "data": {
      "image/png": "[encoded data removed]",
      "text/plain": [
       "<Figure size 432x288 with 1 Axes>"
      ]
     },
     "metadata": {
      "tags": []
     },
     "output_type": "display_data"
    }
   ],
   "source": [
    "# lets take a look at one of the images randomly\n",
    "index = random.randrange(len(df))\n",
    "\n",
    "img = load_img(dataPath + \"//\" + df.at[index, 'image'], target_size = (64,64))\n",
    "\n",
    "plt.imshow(img)"
   ]
  },
  {
   "cell_type": "code",
   "execution_count": null,
   "metadata": {
    "colab": {
     "base_uri": "https://localhost:8080/",
     "height": 305
    },
    "id": "WhdNqVhREj2r",
    "outputId": "debf5f1b-a758-4358-9f4a-19cb6a752eed"
   },
   "outputs": [
    {
     "name": "stderr",
     "output_type": "stream",
     "text": [
      "Clipping input data to the valid range for imshow with RGB data ([0..1] for floats or [0..255] for integers).\n"
     ]
    },
    {
     "data": {
      "text/plain": [
       "<matplotlib.image.AxesImage at 0x7f3a2607af90>"
      ]
     },
     "execution_count": 10,
     "metadata": {
      "tags": []
     },
     "output_type": "execute_result"
    },
    {
     "data": {
      "image/png": "[encoded data removed]",
      "text/plain": [
       "<Figure size 432x288 with 1 Axes>"
      ]
     },
     "metadata": {
      "tags": []
     },
     "output_type": "display_data"
    }
   ],
   "source": [
    "#now lets augment this image with rotation\n",
    "augmented_image_generator = ImageDataGenerator(rotation_range = 180)\n",
    "\n",
    "# convert the img from 3 to 4 dimensions, including the number of samples column\n",
    "# our img is of (64,64,3) shape\n",
    "temp_arr = img_to_array(img)\n",
    "temp_arr = temp_arr.reshape(1, temp_arr.shape[0], temp_arr.shape[1], temp_arr.shape[2])\n",
    "\n",
    "aug_data = augmented_image_generator.flow(temp_arr, batch_size = 1)\n",
    "\n",
    "plt.imshow(aug_data[0][0])"
   ]
  },
  {
   "cell_type": "code",
   "execution_count": null,
   "metadata": {
    "colab": {
     "base_uri": "https://localhost:8080/",
     "height": 35
    },
    "id": "VUnZ0i9SBDcN",
    "outputId": "e11a2674-f1ce-4424-f0a1-f61be26ccf6d"
   },
   "outputs": [
    {
     "data": {
      "application/vnd.google.colaboratory.intrinsic+json": {
       "type": "string"
      },
      "text/plain": [
       "'r'"
      ]
     },
     "execution_count": 71,
     "metadata": {
      "tags": []
     },
     "output_type": "execute_result"
    }
   ],
   "source": [
    "#check if the label of that image matches the image itself\n",
    "df.at[index, 'label']"
   ]
  },
  {
   "cell_type": "code",
   "execution_count": null,
   "metadata": {
    "colab": {
     "base_uri": "https://localhost:8080/",
     "height": 286
    },
    "id": "OcPoNWke6kDl",
    "outputId": "752d1a1a-b9f8-4ad4-ffbc-4d733f36c460"
   },
   "outputs": [
    {
     "data": {
      "text/plain": [
       "<matplotlib.image.AxesImage at 0x7f3a25ff8690>"
      ]
     },
     "execution_count": 11,
     "metadata": {
      "tags": []
     },
     "output_type": "execute_result"
    },
    {
     "data": {
      "image/png": "[encoded data removed]",
      "text/plain": [
       "<Figure size 432x288 with 1 Axes>"
      ]
     },
     "metadata": {
      "tags": []
     },
     "output_type": "display_data"
    }
   ],
   "source": [
    "#another example\n",
    "index = random.randrange(len(df))\n",
    "\n",
    "img = load_img(dataPath + \"//\" + df.at[index, 'image'], target_size = (64,64))\n",
    "\n",
    "\n",
    "plt.imshow(img)\n"
   ]
  },
  {
   "cell_type": "code",
   "execution_count": null,
   "metadata": {
    "colab": {
     "base_uri": "https://localhost:8080/",
     "height": 305
    },
    "id": "J49tgzbSLDe6",
    "outputId": "2e3dded4-ec47-43e0-b2f4-a904d9b53c4a"
   },
   "outputs": [
    {
     "name": "stderr",
     "output_type": "stream",
     "text": [
      "Clipping input data to the valid range for imshow with RGB data ([0..1] for floats or [0..255] for integers).\n"
     ]
    },
    {
     "data": {
      "text/plain": [
       "<matplotlib.image.AxesImage at 0x7f3a25ee1650>"
      ]
     },
     "execution_count": 14,
     "metadata": {
      "tags": []
     },
     "output_type": "execute_result"
    },
    {
     "data": {
      "image/png": "[encoded data removed]",
      "text/plain": [
       "<Figure size 432x288 with 1 Axes>"
      ]
     },
     "metadata": {
      "tags": []
     },
     "output_type": "display_data"
    }
   ],
   "source": [
    "#now lets augment this image by shifting it along the x_axis to the left\n",
    "augmented_image_generator = ImageDataGenerator(width_shift_range = -0.2)\n",
    "\n",
    "\n",
    "temp_arr = img_to_array(img)\n",
    "temp_arr = temp_arr.reshape(1, temp_arr.shape[0], temp_arr.shape[1], temp_arr.shape[2])\n",
    "\n",
    "aug_data = augmented_image_generator.flow(temp_arr, batch_size = 1)\n",
    "\n",
    "plt.imshow(aug_data[0][0])"
   ]
  },
  {
   "cell_type": "code",
   "execution_count": null,
   "metadata": {
    "colab": {
     "base_uri": "https://localhost:8080/",
     "height": 35
    },
    "id": "vOmKuRg7DAuQ",
    "outputId": "8eec4355-08a2-4091-9f4f-8d2d474b6cb9"
   },
   "outputs": [
    {
     "data": {
      "application/vnd.google.colaboratory.intrinsic+json": {
       "type": "string"
      },
      "text/plain": [
       "'k'"
      ]
     },
     "execution_count": 13,
     "metadata": {
      "tags": []
     },
     "output_type": "execute_result"
    }
   ],
   "source": [
    "#check if the label of that image matches the image itself\n",
    "df.at[index, 'label']"
   ]
  },
  {
   "cell_type": "markdown",
   "metadata": {
    "id": "b_WJ0P0HB4Dl"
   },
   "source": [
    "**Creating Validation and Testing datasets**"
   ]
  },
  {
   "cell_type": "code",
   "execution_count": null,
   "metadata": {
    "id": "WSuVCdKzOJn9"
   },
   "outputs": [],
   "source": [
    "# we have our main dataFrame 'df' that we will work with\n",
    "# now to create the training, validation, testing array\n",
    "\n",
    "validation_length = int(len(df) * 0.25) # 25 % of whole\n",
    "testing_length = int(validation_length * 0.1) # 10 % of valdation\n",
    "# And the remaining is for the training\n",
    "\n",
    "validation_data_list = random.sample(range(len(df)), validation_length)\n",
    "validation_df = pd.DataFrame(df.iloc[validation_data_list].values, columns = ['image', 'label'])\n",
    "df.drop(validation_data_list, axis = 0, inplace = True)\n",
    "\n",
    "testing_data_list = random.sample(range(len(validation_df)), testing_length)\n",
    "testing_df = pd.DataFrame(validation_df.iloc[testing_data_list].values, columns = ['image','label'])\n",
    "validation_df.drop(testing_data_list, axis = 0, inplace = True)\n",
    "\n",
    "training_data = df[:].values\n",
    "\n",
    "training_df = pd.DataFrame(training_data, columns = ['image','label'])\n"
   ]
  },
  {
   "cell_type": "code",
   "execution_count": null,
   "metadata": {
    "colab": {
     "base_uri": "https://localhost:8080/",
     "height": 205
    },
    "id": "ldm1zLWxTnop",
    "outputId": "0c5894c5-082d-4a22-9c59-c73d50f7a07e"
   },
   "outputs": [
    {
     "data": {
      "text/html": [
       "<div>\n",
       "<style scoped>\n",
       "    .dataframe tbody tr th:only-of-type {\n",
       "        vertical-align: middle;\n",
       "    }\n",
       "\n",
       "    .dataframe tbody tr th {\n",
       "        vertical-align: top;\n",
       "    }\n",
       "\n",
       "    .dataframe thead th {\n",
       "        text-align: right;\n",
       "    }\n",
       "</style>\n",
       "<table border=\"1\" class=\"dataframe\">\n",
       "  <thead>\n",
       "    <tr style=\"text-align: right;\">\n",
       "      <th></th>\n",
       "      <th>image</th>\n",
       "      <th>label</th>\n",
       "    </tr>\n",
       "  </thead>\n",
       "  <tbody>\n",
       "    <tr>\n",
       "      <th>0</th>\n",
       "      <td>img001-002.png</td>\n",
       "      <td>0</td>\n",
       "    </tr>\n",
       "    <tr>\n",
       "      <th>1</th>\n",
       "      <td>img001-003.png</td>\n",
       "      <td>0</td>\n",
       "    </tr>\n",
       "    <tr>\n",
       "      <th>2</th>\n",
       "      <td>img001-005.png</td>\n",
       "      <td>0</td>\n",
       "    </tr>\n",
       "    <tr>\n",
       "      <th>3</th>\n",
       "      <td>img001-006.png</td>\n",
       "      <td>0</td>\n",
       "    </tr>\n",
       "    <tr>\n",
       "      <th>4</th>\n",
       "      <td>img001-007.png</td>\n",
       "      <td>0</td>\n",
       "    </tr>\n",
       "  </tbody>\n",
       "</table>\n",
       "</div>"
      ],
      "text/plain": [
       "            image label\n",
       "0  img001-002.png     0\n",
       "1  img001-003.png     0\n",
       "2  img001-005.png     0\n",
       "3  img001-006.png     0\n",
       "4  img001-007.png     0"
      ]
     },
     "execution_count": 6,
     "metadata": {
      "tags": []
     },
     "output_type": "execute_result"
    }
   ],
   "source": [
    "#take a quick look to all three dataFrames \n",
    "\n",
    "training_df.head()"
   ]
  },
  {
   "cell_type": "code",
   "execution_count": null,
   "metadata": {
    "colab": {
     "base_uri": "https://localhost:8080/",
     "height": 205
    },
    "id": "bXVk3bL3OMB9",
    "outputId": "caeac31e-9131-4387-d9c7-e88e8151f568"
   },
   "outputs": [
    {
     "data": {
      "text/html": [
       "<div>\n",
       "<style scoped>\n",
       "    .dataframe tbody tr th:only-of-type {\n",
       "        vertical-align: middle;\n",
       "    }\n",
       "\n",
       "    .dataframe tbody tr th {\n",
       "        vertical-align: top;\n",
       "    }\n",
       "\n",
       "    .dataframe thead th {\n",
       "        text-align: right;\n",
       "    }\n",
       "</style>\n",
       "<table border=\"1\" class=\"dataframe\">\n",
       "  <thead>\n",
       "    <tr style=\"text-align: right;\">\n",
       "      <th></th>\n",
       "      <th>image</th>\n",
       "      <th>label</th>\n",
       "    </tr>\n",
       "  </thead>\n",
       "  <tbody>\n",
       "    <tr>\n",
       "      <th>0</th>\n",
       "      <td>img001-001.png</td>\n",
       "      <td>P</td>\n",
       "    </tr>\n",
       "    <tr>\n",
       "      <th>1</th>\n",
       "      <td>img001-002.png</td>\n",
       "      <td>r</td>\n",
       "    </tr>\n",
       "    <tr>\n",
       "      <th>2</th>\n",
       "      <td>img001-001.png</td>\n",
       "      <td>3</td>\n",
       "    </tr>\n",
       "    <tr>\n",
       "      <th>3</th>\n",
       "      <td>img001-004.png</td>\n",
       "      <td>q</td>\n",
       "    </tr>\n",
       "    <tr>\n",
       "      <th>4</th>\n",
       "      <td>img001-002.png</td>\n",
       "      <td>0</td>\n",
       "    </tr>\n",
       "  </tbody>\n",
       "</table>\n",
       "</div>"
      ],
      "text/plain": [
       "            image label\n",
       "0  img001-001.png     P\n",
       "1  img001-002.png     r\n",
       "2  img001-001.png     3\n",
       "3  img001-004.png     q\n",
       "4  img001-002.png     0"
      ]
     },
     "execution_count": 205,
     "metadata": {
      "tags": []
     },
     "output_type": "execute_result"
    }
   ],
   "source": [
    "testing_df.head()"
   ]
  },
  {
   "cell_type": "code",
   "execution_count": null,
   "metadata": {
    "colab": {
     "base_uri": "https://localhost:8080/",
     "height": 205
    },
    "id": "eeFw8ZynOMz1",
    "outputId": "c69985b4-11e6-402e-ce60-d535b2fe35b2"
   },
   "outputs": [
    {
     "data": {
      "text/html": [
       "<div>\n",
       "<style scoped>\n",
       "    .dataframe tbody tr th:only-of-type {\n",
       "        vertical-align: middle;\n",
       "    }\n",
       "\n",
       "    .dataframe tbody tr th {\n",
       "        vertical-align: top;\n",
       "    }\n",
       "\n",
       "    .dataframe thead th {\n",
       "        text-align: right;\n",
       "    }\n",
       "</style>\n",
       "<table border=\"1\" class=\"dataframe\">\n",
       "  <thead>\n",
       "    <tr style=\"text-align: right;\">\n",
       "      <th></th>\n",
       "      <th>image</th>\n",
       "      <th>label</th>\n",
       "    </tr>\n",
       "  </thead>\n",
       "  <tbody>\n",
       "    <tr>\n",
       "      <th>0</th>\n",
       "      <td>img001-022.png</td>\n",
       "      <td>1</td>\n",
       "    </tr>\n",
       "    <tr>\n",
       "      <th>1</th>\n",
       "      <td>img001-050.png</td>\n",
       "      <td>3</td>\n",
       "    </tr>\n",
       "    <tr>\n",
       "      <th>2</th>\n",
       "      <td>img002-016.png</td>\n",
       "      <td>S</td>\n",
       "    </tr>\n",
       "    <tr>\n",
       "      <th>3</th>\n",
       "      <td>img001-044.png</td>\n",
       "      <td>1</td>\n",
       "    </tr>\n",
       "    <tr>\n",
       "      <th>4</th>\n",
       "      <td>img001-003.png</td>\n",
       "      <td>N</td>\n",
       "    </tr>\n",
       "  </tbody>\n",
       "</table>\n",
       "</div>"
      ],
      "text/plain": [
       "            image label\n",
       "0  img001-022.png     1\n",
       "1  img001-050.png     3\n",
       "2  img002-016.png     S\n",
       "3  img001-044.png     1\n",
       "4  img001-003.png     N"
      ]
     },
     "execution_count": 206,
     "metadata": {
      "tags": []
     },
     "output_type": "execute_result"
    }
   ],
   "source": [
    "validation_df.head()"
   ]
  },
  {
   "cell_type": "markdown",
   "metadata": {
    "id": "4OzQx3rYUBQp"
   },
   "source": [
    "**Data Augmentation**"
   ]
  },
  {
   "cell_type": "code",
   "execution_count": null,
   "metadata": {
    "colab": {
     "base_uri": "https://localhost:8080/"
    },
    "id": "TKZ_yjw_UAqu",
    "outputId": "9fbd1404-e020-4bb9-94bc-d55fa6d4cca4"
   },
   "outputs": [
    {
     "name": "stdout",
     "output_type": "stream",
     "text": [
      "Found 2558 validated image filenames belonging to 62 classes.\n",
      "Found 767 validated image filenames belonging to 62 classes.\n",
      "Found 85 validated image filenames.\n"
     ]
    }
   ],
   "source": [
    "training_data_augmentor = ImageDataGenerator(\n",
    "    rescale = 1/255,\n",
    "    shear_range = 0.14,\n",
    "    zoom_range = 0.14,\n",
    "    width_shift_range = 0.14,\n",
    "    height_shift_range = 0.14\n",
    ")\n",
    "\n",
    "data_augmentor = ImageDataGenerator(rescale = 1/255)\n",
    "\n",
    "# for testing\n",
    "dataFrame_training = training_data_augmentor.flow_from_dataframe(\n",
    "    dataframe = training_df,\n",
    "    directory = dataPath,\n",
    "    x_col = 'image',\n",
    "    y_col = 'label',\n",
    "    target_size = (64,64),\n",
    "    color_mode = 'grayscale',\n",
    "    class_mode = 'categorical'\n",
    ")\n",
    "\n",
    "#for validation\n",
    "dataFrame_validation = data_augmentor.flow_from_dataframe(\n",
    "    dataframe = validation_df,\n",
    "    directory = dataPath,\n",
    "    x_col = 'image',\n",
    "    y_col = 'label',\n",
    "    target_size = (64,64),\n",
    "    color_mode = 'grayscale',\n",
    "    class_mode = 'categorical'\n",
    ")\n",
    "\n",
    "#for testing\n",
    "dataFrame_testing = data_augmentor.flow_from_dataframe(\n",
    "    dataframe = testing_df,\n",
    "    directory = dataPath,\n",
    "    x_col = 'image',\n",
    "    y_col = None,\n",
    "    target_size = (64,64),\n",
    "\n",
    "    color_mode = 'grayscale',\n",
    "    class_mode = None\n",
    ")\n"
   ]
  },
  {
   "cell_type": "markdown",
   "metadata": {
    "id": "PyfMWkxDePfG"
   },
   "source": [
    "# **NOTE IMPORTANT**\n",
    "\n",
    "Make sure to get 62 classes validated for the training as well as validation image else model.fit() will return error saying : logits and labels must be broadcastable\n",
    ">\n",
    "just run the **Creating validation and test dataset** cell and run the above cell again to check"
   ]
  },
  {
   "cell_type": "markdown",
   "metadata": {
    "id": "PDzq1e3HXUEn"
   },
   "source": [
    "**Model Creation and fitting**"
   ]
  },
  {
   "cell_type": "code",
   "execution_count": null,
   "metadata": {
    "id": "q6oQiZPpXLIW"
   },
   "outputs": [],
   "source": [
    "model = tf.keras.models.Sequential()\n",
    "model.add(BatchNormalization())\n",
    "\n",
    "model.add(Conv2D(filters = 32, kernel_size = (3,3), padding='same', input_shape = (64,64,1), activation = 'relu'))\n",
    "model.add(Conv2D(filters = 32, kernel_size = (3,3), activation = 'relu'))\n",
    "model.add(MaxPooling2D(pool_size = (2,2)))\n",
    "model.add(Dropout(rate = 0.25))\n",
    "\n",
    "model.add(Conv2D(filters = 32, kernel_size = (3,3), padding='same', activation = 'relu'))\n",
    "model.add(Conv2D(filters = 32, kernel_size = (3,3), activation = 'relu'))\n",
    "model.add(MaxPooling2D(pool_size = (2,2)))\n",
    "model.add(Dropout(rate = 0.25))\n",
    "\n",
    "model.add(Conv2D(filters = 32, kernel_size = (3,3), padding='same', activation = 'relu'))\n",
    "model.add(Conv2D(filters = 32, kernel_size = (3,3), activation = 'relu'))\n",
    "model.add(MaxPooling2D(pool_size = (2,2)))\n",
    "model.add(Dropout(rate = 0.25))\n",
    "\n",
    "model.add(Flatten())\n",
    "\n",
    "model.add(Dense(units = 128, activation = 'relu'))\n",
    "model.add(Dropout(0.25))\n",
    "\n",
    "model.add(Dense(units = 62, activation = 'softmax'))"
   ]
  },
  {
   "cell_type": "code",
   "execution_count": null,
   "metadata": {
    "id": "BNcRU9fWYsAV"
   },
   "outputs": [],
   "source": [
    "model.compile(optimizer = 'adam',\n",
    "              loss = 'categorical_crossentropy',\n",
    "              metrics = ['accuracy'])"
   ]
  },
  {
   "cell_type": "code",
   "execution_count": null,
   "metadata": {
    "colab": {
     "base_uri": "https://localhost:8080/"
    },
    "id": "M-BelMqAY8pm",
    "outputId": "c376e1ad-cb86-488c-9200-3d0becc6d087"
   },
   "outputs": [
    {
     "name": "stdout",
     "output_type": "stream",
     "text": [
      "Epoch 1/50\n",
      "80/80 [==============================] - 880s 11s/step - loss: 4.1284 - accuracy: 0.0149 - val_loss: 4.1278 - val_accuracy: 0.0078\n",
      "Epoch 2/50\n",
      "80/80 [==============================] - 86s 1s/step - loss: 4.0300 - accuracy: 0.0309 - val_loss: 3.9850 - val_accuracy: 0.0743\n",
      "Epoch 3/50\n",
      "80/80 [==============================] - 86s 1s/step - loss: 3.7542 - accuracy: 0.0688 - val_loss: 3.5382 - val_accuracy: 0.1525\n",
      "Epoch 4/50\n",
      "80/80 [==============================] - 85s 1s/step - loss: 3.2865 - accuracy: 0.1423 - val_loss: 2.6795 - val_accuracy: 0.3077\n",
      "Epoch 5/50\n",
      "80/80 [==============================] - 85s 1s/step - loss: 2.8783 - accuracy: 0.2275 - val_loss: 2.2485 - val_accuracy: 0.4133\n",
      "Epoch 6/50\n",
      "80/80 [==============================] - 85s 1s/step - loss: 2.5055 - accuracy: 0.2948 - val_loss: 1.9957 - val_accuracy: 0.4537\n",
      "Epoch 7/50\n",
      "80/80 [==============================] - 86s 1s/step - loss: 2.2396 - accuracy: 0.3554 - val_loss: 1.5302 - val_accuracy: 0.5984\n",
      "Epoch 8/50\n",
      "80/80 [==============================] - 85s 1s/step - loss: 2.0381 - accuracy: 0.3991 - val_loss: 1.3471 - val_accuracy: 0.6493\n",
      "Epoch 9/50\n",
      "80/80 [==============================] - 85s 1s/step - loss: 1.8700 - accuracy: 0.4629 - val_loss: 1.2318 - val_accuracy: 0.6493\n",
      "Epoch 10/50\n",
      "80/80 [==============================] - 85s 1s/step - loss: 1.7369 - accuracy: 0.4773 - val_loss: 1.0882 - val_accuracy: 0.7066\n",
      "Epoch 11/50\n",
      "80/80 [==============================] - 85s 1s/step - loss: 1.5835 - accuracy: 0.5129 - val_loss: 0.9931 - val_accuracy: 0.7066\n",
      "Epoch 12/50\n",
      "80/80 [==============================] - 85s 1s/step - loss: 1.4248 - accuracy: 0.5520 - val_loss: 0.8688 - val_accuracy: 0.7171\n",
      "Epoch 13/50\n",
      "80/80 [==============================] - 86s 1s/step - loss: 1.3403 - accuracy: 0.5860 - val_loss: 0.8243 - val_accuracy: 0.7497\n",
      "Epoch 14/50\n",
      "80/80 [==============================] - 85s 1s/step - loss: 1.3036 - accuracy: 0.5946 - val_loss: 0.7996 - val_accuracy: 0.7471\n",
      "Epoch 15/50\n",
      "80/80 [==============================] - 85s 1s/step - loss: 1.2414 - accuracy: 0.6173 - val_loss: 0.8646 - val_accuracy: 0.7314\n",
      "Epoch 16/50\n",
      "80/80 [==============================] - 85s 1s/step - loss: 1.1198 - accuracy: 0.6345 - val_loss: 0.6817 - val_accuracy: 0.7901\n",
      "Epoch 17/50\n",
      "80/80 [==============================] - 86s 1s/step - loss: 1.1103 - accuracy: 0.6532 - val_loss: 0.7314 - val_accuracy: 0.7679\n",
      "Epoch 18/50\n",
      "80/80 [==============================] - 85s 1s/step - loss: 1.0562 - accuracy: 0.6607 - val_loss: 0.6478 - val_accuracy: 0.8031\n",
      "Epoch 19/50\n",
      "80/80 [==============================] - 86s 1s/step - loss: 0.9738 - accuracy: 0.6830 - val_loss: 0.6822 - val_accuracy: 0.7901\n",
      "Epoch 20/50\n",
      "80/80 [==============================] - 85s 1s/step - loss: 0.9754 - accuracy: 0.6826 - val_loss: 0.6687 - val_accuracy: 0.7731\n",
      "Epoch 21/50\n",
      "80/80 [==============================] - 85s 1s/step - loss: 0.9307 - accuracy: 0.6900 - val_loss: 0.6227 - val_accuracy: 0.7914\n",
      "Epoch 22/50\n",
      "80/80 [==============================] - 85s 1s/step - loss: 0.9166 - accuracy: 0.6978 - val_loss: 0.5814 - val_accuracy: 0.8096\n",
      "Epoch 23/50\n",
      "80/80 [==============================] - 85s 1s/step - loss: 0.9238 - accuracy: 0.6966 - val_loss: 0.5913 - val_accuracy: 0.8110\n",
      "Epoch 24/50\n",
      "80/80 [==============================] - 86s 1s/step - loss: 0.8638 - accuracy: 0.7142 - val_loss: 0.6350 - val_accuracy: 0.7940\n",
      "Epoch 25/50\n",
      "80/80 [==============================] - 85s 1s/step - loss: 0.8338 - accuracy: 0.7150 - val_loss: 0.5791 - val_accuracy: 0.8018\n",
      "Epoch 26/50\n",
      "80/80 [==============================] - 86s 1s/step - loss: 0.7945 - accuracy: 0.7330 - val_loss: 0.5956 - val_accuracy: 0.8057\n",
      "Epoch 27/50\n",
      "80/80 [==============================] - 86s 1s/step - loss: 0.8166 - accuracy: 0.7310 - val_loss: 0.5614 - val_accuracy: 0.8044\n",
      "Epoch 28/50\n",
      "80/80 [==============================] - 86s 1s/step - loss: 0.7625 - accuracy: 0.7416 - val_loss: 0.5623 - val_accuracy: 0.8031\n",
      "Epoch 29/50\n",
      "80/80 [==============================] - 85s 1s/step - loss: 0.7731 - accuracy: 0.7404 - val_loss: 0.5784 - val_accuracy: 0.8136\n",
      "Epoch 30/50\n",
      "80/80 [==============================] - 86s 1s/step - loss: 0.7578 - accuracy: 0.7451 - val_loss: 0.5712 - val_accuracy: 0.7979\n",
      "Epoch 31/50\n",
      "80/80 [==============================] - 85s 1s/step - loss: 0.7369 - accuracy: 0.7498 - val_loss: 0.5545 - val_accuracy: 0.8253\n",
      "Epoch 32/50\n",
      "80/80 [==============================] - 85s 1s/step - loss: 0.7127 - accuracy: 0.7588 - val_loss: 0.5176 - val_accuracy: 0.8318\n",
      "Epoch 33/50\n",
      "80/80 [==============================] - 86s 1s/step - loss: 0.6876 - accuracy: 0.7557 - val_loss: 0.5420 - val_accuracy: 0.8396\n",
      "Epoch 34/50\n",
      "80/80 [==============================] - 85s 1s/step - loss: 0.7031 - accuracy: 0.7572 - val_loss: 0.5338 - val_accuracy: 0.8266\n",
      "Epoch 35/50\n",
      "80/80 [==============================] - 85s 1s/step - loss: 0.6715 - accuracy: 0.7654 - val_loss: 0.5397 - val_accuracy: 0.8227\n",
      "Epoch 36/50\n",
      "80/80 [==============================] - 86s 1s/step - loss: 0.6892 - accuracy: 0.7627 - val_loss: 0.5466 - val_accuracy: 0.8279\n",
      "Epoch 37/50\n",
      "80/80 [==============================] - 86s 1s/step - loss: 0.6315 - accuracy: 0.7733 - val_loss: 0.5399 - val_accuracy: 0.8214\n",
      "Epoch 38/50\n",
      "80/80 [==============================] - 87s 1s/step - loss: 0.6630 - accuracy: 0.7729 - val_loss: 0.5160 - val_accuracy: 0.8253\n",
      "Epoch 39/50\n",
      "80/80 [==============================] - 86s 1s/step - loss: 0.5788 - accuracy: 0.7940 - val_loss: 0.5352 - val_accuracy: 0.8370\n",
      "Epoch 40/50\n",
      "80/80 [==============================] - 86s 1s/step - loss: 0.6489 - accuracy: 0.7717 - val_loss: 0.4835 - val_accuracy: 0.8396\n",
      "Epoch 41/50\n",
      "80/80 [==============================] - 85s 1s/step - loss: 0.6489 - accuracy: 0.7772 - val_loss: 0.4706 - val_accuracy: 0.8579\n",
      "Epoch 42/50\n",
      "80/80 [==============================] - 85s 1s/step - loss: 0.6040 - accuracy: 0.7842 - val_loss: 0.5333 - val_accuracy: 0.8070\n",
      "Epoch 43/50\n",
      "80/80 [==============================] - 85s 1s/step - loss: 0.5820 - accuracy: 0.7838 - val_loss: 0.4860 - val_accuracy: 0.8527\n",
      "Epoch 44/50\n",
      "80/80 [==============================] - 85s 1s/step - loss: 0.6244 - accuracy: 0.7846 - val_loss: 0.5165 - val_accuracy: 0.8396\n",
      "Epoch 45/50\n",
      "80/80 [==============================] - 85s 1s/step - loss: 0.5971 - accuracy: 0.7834 - val_loss: 0.4947 - val_accuracy: 0.8488\n",
      "Epoch 46/50\n",
      "80/80 [==============================] - 85s 1s/step - loss: 0.5807 - accuracy: 0.7897 - val_loss: 0.4933 - val_accuracy: 0.8488\n",
      "Epoch 47/50\n",
      "80/80 [==============================] - 85s 1s/step - loss: 0.5777 - accuracy: 0.7893 - val_loss: 0.5395 - val_accuracy: 0.8214\n",
      "Epoch 48/50\n",
      "80/80 [==============================] - 85s 1s/step - loss: 0.5500 - accuracy: 0.8026 - val_loss: 0.4888 - val_accuracy: 0.8540\n",
      "Epoch 49/50\n",
      "80/80 [==============================] - 86s 1s/step - loss: 0.5801 - accuracy: 0.7991 - val_loss: 0.5055 - val_accuracy: 0.8305\n",
      "Epoch 50/50\n",
      "80/80 [==============================] - 85s 1s/step - loss: 0.5644 - accuracy: 0.8018 - val_loss: 0.5212 - val_accuracy: 0.8331\n"
     ]
    }
   ],
   "source": [
    "history = model.fit(dataFrame_training, epochs = 50, validation_data = dataFrame_validation)"
   ]
  },
  {
   "cell_type": "code",
   "execution_count": 4,
   "metadata": {
    "colab": {
     "base_uri": "https://localhost:8080/"
    },
    "id": "chYhMfcB6__F",
    "outputId": "9f519b1f-6db5-40ae-a2d4-a89bc3bd0082"
   },
   "outputs": [],
   "source": [
    "# Run the code to save the model\n",
    "# model.save(dataPath + \"model\")"
   ]
  },
  {
   "cell_type": "markdown",
   "metadata": {
    "id": "XEACJ-UBEOWu"
   },
   "source": [
    "***Visualizing how the accuracy and loss changed in each epoch for training and validation***"
   ]
  },
  {
   "cell_type": "code",
   "execution_count": null,
   "metadata": {
    "colab": {
     "base_uri": "https://localhost:8080/"
    },
    "id": "MyorAexCZF7W",
    "outputId": "aad06556-79d1-490e-fea7-6b396000666f"
   },
   "outputs": [
    {
     "data": {
      "text/plain": [
       "dict_keys(['loss', 'accuracy', 'val_loss', 'val_accuracy'])"
      ]
     },
     "execution_count": 77,
     "metadata": {
      "tags": []
     },
     "output_type": "execute_result"
    }
   ],
   "source": [
    "history.history.keys()"
   ]
  },
  {
   "cell_type": "code",
   "execution_count": null,
   "metadata": {
    "colab": {
     "base_uri": "https://localhost:8080/",
     "height": 624
    },
    "id": "7y57fG0CEYGa",
    "outputId": "11fde55c-5921-4cca-92b7-d77f8d4e2829"
   },
   "outputs": [
    {
     "data": {
      "text/plain": [
       "Text(0.5, 1.0, 'Training and Validation loss')"
      ]
     },
     "execution_count": 15,
     "metadata": {
      "tags": []
     },
     "output_type": "execute_result"
    },
    {
     "data": {
      "image/png": "[encoded data removed]",
      "text/plain": [
       "<Figure size 1080x720 with 2 Axes>"
      ]
     },
     "metadata": {
      "needs_background": "light",
      "tags": []
     },
     "output_type": "display_data"
    }
   ],
   "source": [
    "acc = history.history['accuracy']\n",
    "loss = history.history['loss']\n",
    "val_accuracy = history.history['val_accuracy']\n",
    "val_loss = history.history['val_loss']\n",
    "\n",
    "epochs = range(50)\n",
    "\n",
    "plt.figure(figsize = (15,10))\n",
    "\n",
    "plt.subplot(1,2,1)\n",
    "plt.plot(epochs, acc, color = 'orange')\n",
    "plt.plot(epochs, val_accuracy, color = 'green')\n",
    "plt.legend(['train_acc', 'val_acc'], loc = 'lower right')\n",
    "plt.title(\"Training and Validation accuracy\")\n",
    "\n",
    "plt.subplot(1,2,2)\n",
    "plt.plot(epochs, loss, color = 'orange')\n",
    "plt.plot(epochs, val_loss, color = 'green')\n",
    "plt.legend(['train_loss', 'val_loss'], loc=  'upper right')\n",
    "plt.title(\"Training and Validation loss\")"
   ]
  },
  {
   "cell_type": "markdown",
   "metadata": {
    "id": "n2nbGaN9F-ho"
   },
   "source": [
    "***Prediction***"
   ]
  },
  {
   "cell_type": "code",
   "execution_count": null,
   "metadata": {
    "colab": {
     "base_uri": "https://localhost:8080/"
    },
    "id": "HEQlqmaeF7KP",
    "outputId": "f5ecf3c1-862c-46c9-ed84-0fcbfabae060"
   },
   "outputs": [
    {
     "name": "stdout",
     "output_type": "stream",
     "text": [
      "MaxIndexes : [25, 17, 53, 25, 23, 3, 17, 44, 11, 17]\n",
      "Class - indicies : {'0': 0, '1': 1, '2': 2, '3': 3, '4': 4, '5': 5, '6': 6, '7': 7, '8': 8, '9': 9, 'A': 10, 'B': 11, 'C': 12, 'D': 13, 'E': 14, 'F': 15, 'G': 16, 'H': 17, 'I': 18, 'J': 19, 'K': 20, 'L': 21, 'M': 22, 'N': 23, 'O': 24, 'P': 25, 'Q': 26, 'R': 27, 'S': 28, 'T': 29, 'U': 30, 'V': 31, 'W': 32, 'X': 33, 'Y': 34, 'Z': 35, 'a': 36, 'b': 37, 'c': 38, 'd': 39, 'e': 40, 'f': 41, 'g': 42, 'h': 43, 'i': 44, 'j': 45, 'k': 46, 'l': 47, 'm': 48, 'n': 49, 'o': 50, 'p': 51, 'q': 52, 'r': 53, 's': 54, 't': 55, 'u': 56, 'v': 57, 'w': 58, 'x': 59, 'y': 60, 'z': 61}\n"
     ]
    }
   ],
   "source": [
    "pred = model.predict(dataFrame_testing)\n",
    "\n",
    "outputdf = pd.DataFrame(pred)\n",
    "\n",
    "# lets consider first 10 predicted images and display them\n",
    "maxIndex = list(outputdf[:10].idxmax(axis = 1))\n",
    "\n",
    "print(\"MaxIndexes : {}\".format(maxIndex))\n",
    "\n",
    "# the following are the 62 classes with their indices from training dataframe created from Augmented cell\n",
    "print(\"Class - indicies : {}\".format(dataFrame_training.class_indices))\n",
    "\n"
   ]
  },
  {
   "cell_type": "code",
   "execution_count": null,
   "metadata": {
    "colab": {
     "base_uri": "https://localhost:8080/",
     "height": 1000
    },
    "id": "tpXJ8mswMM0p",
    "outputId": "7cd08977-ed42-4c1b-ccc0-eaa603504ca2"
   },
   "outputs": [
    {
     "data": {
      "image/png": "[encoded data removed]",
      "text/plain": [
       "<Figure size 432x288 with 1 Axes>"
      ]
     },
     "metadata": {
      "needs_background": "light",
      "tags": []
     },
     "output_type": "display_data"
    },
    {
     "data": {
      "image/png": "[encoded data removed]",
      "text/plain": [
       "<Figure size 432x288 with 1 Axes>"
      ]
     },
     "metadata": {
      "needs_background": "light",
      "tags": []
     },
     "output_type": "display_data"
    },
    {
     "data": {
      "image/png": "[encoded data removed]",
      "text/plain": [
       "<Figure size 432x288 with 1 Axes>"
      ]
     },
     "metadata": {
      "needs_background": "light",
      "tags": []
     },
     "output_type": "display_data"
    },
    {
     "data": {
      "image/png": "[encoded data removed]",
      "text/plain": [
       "<Figure size 432x288 with 1 Axes>"
      ]
     },
     "metadata": {
      "needs_background": "light",
      "tags": []
     },
     "output_type": "display_data"
    },
    {
     "data": {
      "image/png": "[encoded data removed]",
      "text/plain": [
       "<Figure size 432x288 with 1 Axes>"
      ]
     },
     "metadata": {
      "needs_background": "light",
      "tags": []
     },
     "output_type": "display_data"
    },
    {
     "data": {
      "image/png": "[encoded data removed]",
      "text/plain": [
       "<Figure size 432x288 with 1 Axes>"
      ]
     },
     "metadata": {
      "needs_background": "light",
      "tags": []
     },
     "output_type": "display_data"
    },
    {
     "data": {
      "image/png": "[encoded data removed]",
      "text/plain": [
       "<Figure size 432x288 with 1 Axes>"
      ]
     },
     "metadata": {
      "needs_background": "light",
      "tags": []
     },
     "output_type": "display_data"
    },
    {
     "data": {
      "image/png": "[encoded data removed]",
      "text/plain": [
       "<Figure size 432x288 with 1 Axes>"
      ]
     },
     "metadata": {
      "needs_background": "light",
      "tags": []
     },
     "output_type": "display_data"
    },
    {
     "data": {
      "image/png": "[encoded data removed]",
      "text/plain": [
       "<Figure size 432x288 with 1 Axes>"
      ]
     },
     "metadata": {
      "needs_background": "light",
      "tags": []
     },
     "output_type": "display_data"
    },
    {
     "data": {
      "image/png": "[encoded data removed]",
      "text/plain": [
       "<Figure size 432x288 with 1 Axes>"
      ]
     },
     "metadata": {
      "needs_background": "light",
      "tags": []
     },
     "output_type": "display_data"
    }
   ],
   "source": [
    "for i in range(10):\n",
    "  img = load_img(dataPath + \"//\" + testing_df.at[i, 'image'])  # testing_df from \"Creating training and Validation dataset\"\n",
    "  plt.title(classes[maxIndex[i]])\n",
    "  plt.imshow(img)\n",
    "  plt.show()"
   ]
  },
  {
   "cell_type": "code",
   "execution_count": null,
   "metadata": {
    "id": "67GvryxWMO3T"
   },
   "outputs": [],
   "source": []
  }
 ],
 "metadata": {
  "colab": {
   "name": "Untitled1.ipynb",
   "provenance": []
  },
  "kernelspec": {
   "display_name": "Python 3",
   "language": "python",
   "name": "python3"
  },
  "language_info": {
   "codemirror_mode": {
    "name": "ipython",
    "version": 3
   },
   "file_extension": ".py",
   "mimetype": "text/x-python",
   "name": "python",
   "nbconvert_exporter": "python",
   "pygments_lexer": "ipython3",
   "version": "3.8.8"
  }
 },
 "nbformat": 4,
 "nbformat_minor": 1
}
